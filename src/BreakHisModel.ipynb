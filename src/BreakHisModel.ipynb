{
 "cells": [
  {
   "cell_type": "markdown",
   "metadata": {},
   "source": [
    "# praProcess **section**"
   ]
  },
  {
   "cell_type": "code",
   "execution_count": 1,
   "metadata": {},
   "outputs": [],
   "source": [
    "import os\n",
    "import numpy as np\n",
    "import pandas as pd\n",
    "import matplotlib.pyplot as plt \n",
    "import seaborn as sns\n",
    "import sklearn\n",
    "import shutil\n",
    "import cv2\n",
    "from sklearn.model_selection import train_test_split\n",
    "from sklearn.utils import resample\n",
    "from sklearn.metrics import confusion_matrix, classification_report"
   ]
  },
  {
   "cell_type": "code",
   "execution_count": 23,
   "metadata": {},
   "outputs": [],
   "source": [
    "#Importing all the necessary libraries for image processing\n",
    "import tensorflow as tf\n",
    "from tensorflow import keras\n",
    "from keras.layers import Conv2D, Flatten, Dense, Dropout, MaxPooling2D, BatchNormalization\n",
    "from keras.models import Sequential, load_model\n",
    "from keras.callbacks import EarlyStopping, Callback , ModelCheckpoint\n",
    "from keras.metrics import Accuracy,binary_crossentropy, FalsePositives, FalseNegatives, TruePositives, TrueNegatives\n",
    "from keras.preprocessing.image import ImageDataGenerator"
   ]
  },
  {
   "cell_type": "code",
   "execution_count": 4,
   "metadata": {},
   "outputs": [
    {
     "data": {
      "text/plain": [
       "'c:\\\\Users\\\\TOBI\\\\Downloads\\\\project-skripsi\\\\src'"
      ]
     },
     "execution_count": 4,
     "metadata": {},
     "output_type": "execute_result"
    }
   ],
   "source": [
    "os.getcwd()"
   ]
  },
  {
   "cell_type": "markdown",
   "metadata": {},
   "source": [
    "## Folds.csv\n",
    "\n",
    "1. Folds.csv contains all the information about the patient images.\n",
    "2. Folds.csv consists of the magnifying factor of the image. the exact path where the image is stores.\n",
    "3. So, We can extract useful information from the filename.\n",
    "4. Here Folds.csv plays major role in designing the system."
   ]
  },
  {
   "cell_type": "code",
   "execution_count": 5,
   "metadata": {},
   "outputs": [
    {
     "data": {
      "text/html": [
       "<div>\n",
       "<style scoped>\n",
       "    .dataframe tbody tr th:only-of-type {\n",
       "        vertical-align: middle;\n",
       "    }\n",
       "\n",
       "    .dataframe tbody tr th {\n",
       "        vertical-align: top;\n",
       "    }\n",
       "\n",
       "    .dataframe thead th {\n",
       "        text-align: right;\n",
       "    }\n",
       "</style>\n",
       "<table border=\"1\" class=\"dataframe\">\n",
       "  <thead>\n",
       "    <tr style=\"text-align: right;\">\n",
       "      <th></th>\n",
       "      <th>fold</th>\n",
       "      <th>mag</th>\n",
       "      <th>grp</th>\n",
       "      <th>filename</th>\n",
       "    </tr>\n",
       "  </thead>\n",
       "  <tbody>\n",
       "    <tr>\n",
       "      <th>0</th>\n",
       "      <td>1</td>\n",
       "      <td>100</td>\n",
       "      <td>train</td>\n",
       "      <td>BreaKHis_v1/histology_slides/breast/benign/SOB...</td>\n",
       "    </tr>\n",
       "    <tr>\n",
       "      <th>1</th>\n",
       "      <td>1</td>\n",
       "      <td>100</td>\n",
       "      <td>train</td>\n",
       "      <td>BreaKHis_v1/histology_slides/breast/benign/SOB...</td>\n",
       "    </tr>\n",
       "    <tr>\n",
       "      <th>2</th>\n",
       "      <td>1</td>\n",
       "      <td>100</td>\n",
       "      <td>train</td>\n",
       "      <td>BreaKHis_v1/histology_slides/breast/benign/SOB...</td>\n",
       "    </tr>\n",
       "    <tr>\n",
       "      <th>3</th>\n",
       "      <td>1</td>\n",
       "      <td>100</td>\n",
       "      <td>train</td>\n",
       "      <td>BreaKHis_v1/histology_slides/breast/benign/SOB...</td>\n",
       "    </tr>\n",
       "    <tr>\n",
       "      <th>4</th>\n",
       "      <td>1</td>\n",
       "      <td>100</td>\n",
       "      <td>train</td>\n",
       "      <td>BreaKHis_v1/histology_slides/breast/benign/SOB...</td>\n",
       "    </tr>\n",
       "  </tbody>\n",
       "</table>\n",
       "</div>"
      ],
      "text/plain": [
       "   fold  mag    grp                                           filename\n",
       "0     1  100  train  BreaKHis_v1/histology_slides/breast/benign/SOB...\n",
       "1     1  100  train  BreaKHis_v1/histology_slides/breast/benign/SOB...\n",
       "2     1  100  train  BreaKHis_v1/histology_slides/breast/benign/SOB...\n",
       "3     1  100  train  BreaKHis_v1/histology_slides/breast/benign/SOB...\n",
       "4     1  100  train  BreaKHis_v1/histology_slides/breast/benign/SOB..."
      ]
     },
     "execution_count": 5,
     "metadata": {},
     "output_type": "execute_result"
    }
   ],
   "source": [
    "# Loading the text file\n",
    "fold_df = pd.read_csv(\"../Folds.csv\")\n",
    "fold_df.head(5)"
   ]
  },
  {
   "cell_type": "code",
   "execution_count": 6,
   "metadata": {},
   "outputs": [
    {
     "data": {
      "text/plain": [
       "(39545, 4)"
      ]
     },
     "execution_count": 6,
     "metadata": {},
     "output_type": "execute_result"
    }
   ],
   "source": [
    "fold_df.shape"
   ]
  },
  {
   "cell_type": "code",
   "execution_count": 7,
   "metadata": {},
   "outputs": [],
   "source": [
    "# Defining the paths\n",
    "img_path = \"./BreaKHis_v1/\"\n",
    "classes = [\"benign\",\"malign\"]"
   ]
  },
  {
   "cell_type": "code",
   "execution_count": 8,
   "metadata": {},
   "outputs": [
    {
     "data": {
      "text/html": [
       "<div>\n",
       "<style scoped>\n",
       "    .dataframe tbody tr th:only-of-type {\n",
       "        vertical-align: middle;\n",
       "    }\n",
       "\n",
       "    .dataframe tbody tr th {\n",
       "        vertical-align: top;\n",
       "    }\n",
       "\n",
       "    .dataframe thead th {\n",
       "        text-align: right;\n",
       "    }\n",
       "</style>\n",
       "<table border=\"1\" class=\"dataframe\">\n",
       "  <thead>\n",
       "    <tr style=\"text-align: right;\">\n",
       "      <th></th>\n",
       "      <th>fold</th>\n",
       "      <th>mag</th>\n",
       "      <th>grp</th>\n",
       "      <th>path</th>\n",
       "    </tr>\n",
       "  </thead>\n",
       "  <tbody>\n",
       "    <tr>\n",
       "      <th>0</th>\n",
       "      <td>1</td>\n",
       "      <td>100</td>\n",
       "      <td>train</td>\n",
       "      <td>BreaKHis_v1/histology_slides/breast/benign/SOB...</td>\n",
       "    </tr>\n",
       "    <tr>\n",
       "      <th>1</th>\n",
       "      <td>1</td>\n",
       "      <td>100</td>\n",
       "      <td>train</td>\n",
       "      <td>BreaKHis_v1/histology_slides/breast/benign/SOB...</td>\n",
       "    </tr>\n",
       "    <tr>\n",
       "      <th>2</th>\n",
       "      <td>1</td>\n",
       "      <td>100</td>\n",
       "      <td>train</td>\n",
       "      <td>BreaKHis_v1/histology_slides/breast/benign/SOB...</td>\n",
       "    </tr>\n",
       "  </tbody>\n",
       "</table>\n",
       "</div>"
      ],
      "text/plain": [
       "   fold  mag    grp                                               path\n",
       "0     1  100  train  BreaKHis_v1/histology_slides/breast/benign/SOB...\n",
       "1     1  100  train  BreaKHis_v1/histology_slides/breast/benign/SOB...\n",
       "2     1  100  train  BreaKHis_v1/histology_slides/breast/benign/SOB..."
      ]
     },
     "execution_count": 8,
     "metadata": {},
     "output_type": "execute_result"
    }
   ],
   "source": [
    "# Renaming the column filename to path\n",
    "fold_df = fold_df.rename(columns = {\"filename\":\"path\"})\n",
    "# Printing the head of the file\n",
    "fold_df.head(3)"
   ]
  },
  {
   "cell_type": "code",
   "execution_count": 9,
   "metadata": {},
   "outputs": [
    {
     "data": {
      "text/plain": [
       "'BreaKHis_v1/histology_slides/breast/benign/SOB/adenosis/SOB_B_A_14-22549AB/100X/SOB_B_A-14-22549AB-100-002.png'"
      ]
     },
     "execution_count": 9,
     "metadata": {},
     "output_type": "execute_result"
    }
   ],
   "source": [
    "# One example path is printed\n",
    "fold_df['path'][1]"
   ]
  },
  {
   "cell_type": "markdown",
   "metadata": {},
   "source": [
    "## Info path:\n",
    "\n",
    "- From the path column we can extract the exact file name using apply and split functions on the path column.\n",
    "- And also the class is extracted."
   ]
  },
  {
   "cell_type": "code",
   "execution_count": 10,
   "metadata": {},
   "outputs": [],
   "source": [
    "# Extracting the filename and label from the path column\n",
    "fold_df['filename'] = fold_df['path'].apply(lambda x:x.split(\"/\")[-1])\n",
    "fold_df[\"label\"] = fold_df['path'].apply(lambda x: x.split(\"/\")[3])"
   ]
  },
  {
   "cell_type": "code",
   "execution_count": 11,
   "metadata": {},
   "outputs": [
    {
     "data": {
      "text/html": [
       "<div>\n",
       "<style scoped>\n",
       "    .dataframe tbody tr th:only-of-type {\n",
       "        vertical-align: middle;\n",
       "    }\n",
       "\n",
       "    .dataframe tbody tr th {\n",
       "        vertical-align: top;\n",
       "    }\n",
       "\n",
       "    .dataframe thead th {\n",
       "        text-align: right;\n",
       "    }\n",
       "</style>\n",
       "<table border=\"1\" class=\"dataframe\">\n",
       "  <thead>\n",
       "    <tr style=\"text-align: right;\">\n",
       "      <th></th>\n",
       "      <th>fold</th>\n",
       "      <th>mag</th>\n",
       "      <th>grp</th>\n",
       "      <th>path</th>\n",
       "      <th>filename</th>\n",
       "      <th>label</th>\n",
       "    </tr>\n",
       "  </thead>\n",
       "  <tbody>\n",
       "    <tr>\n",
       "      <th>0</th>\n",
       "      <td>1</td>\n",
       "      <td>100</td>\n",
       "      <td>train</td>\n",
       "      <td>BreaKHis_v1/histology_slides/breast/benign/SOB...</td>\n",
       "      <td>SOB_B_A-14-22549AB-100-001.png</td>\n",
       "      <td>benign</td>\n",
       "    </tr>\n",
       "    <tr>\n",
       "      <th>1</th>\n",
       "      <td>1</td>\n",
       "      <td>100</td>\n",
       "      <td>train</td>\n",
       "      <td>BreaKHis_v1/histology_slides/breast/benign/SOB...</td>\n",
       "      <td>SOB_B_A-14-22549AB-100-002.png</td>\n",
       "      <td>benign</td>\n",
       "    </tr>\n",
       "    <tr>\n",
       "      <th>2</th>\n",
       "      <td>1</td>\n",
       "      <td>100</td>\n",
       "      <td>train</td>\n",
       "      <td>BreaKHis_v1/histology_slides/breast/benign/SOB...</td>\n",
       "      <td>SOB_B_A-14-22549AB-100-003.png</td>\n",
       "      <td>benign</td>\n",
       "    </tr>\n",
       "  </tbody>\n",
       "</table>\n",
       "</div>"
      ],
      "text/plain": [
       "   fold  mag    grp                                               path  \\\n",
       "0     1  100  train  BreaKHis_v1/histology_slides/breast/benign/SOB...   \n",
       "1     1  100  train  BreaKHis_v1/histology_slides/breast/benign/SOB...   \n",
       "2     1  100  train  BreaKHis_v1/histology_slides/breast/benign/SOB...   \n",
       "\n",
       "                         filename   label  \n",
       "0  SOB_B_A-14-22549AB-100-001.png  benign  \n",
       "1  SOB_B_A-14-22549AB-100-002.png  benign  \n",
       "2  SOB_B_A-14-22549AB-100-003.png  benign  "
      ]
     },
     "execution_count": 11,
     "metadata": {},
     "output_type": "execute_result"
    }
   ],
   "source": [
    "fold_df.head(3)"
   ]
  },
  {
   "cell_type": "markdown",
   "metadata": {},
   "source": [
    "Creating New Directiory Cancer\n",
    "\n",
    "- The given data consists of very complex structure of folders where it stores the images.\n",
    "- The structure as follows:\n",
    "  - BreaKHis_v1\n",
    "    - histology_slides\n",
    "      - breast\n",
    "        - benign\n",
    "          - SOB\n",
    "            - Type - patient_id\n",
    "            - 40x - 100x - 200x - 400x\n",
    "        - malignant\n",
    "          - SOB\n",
    "            - Type - patient_id\n",
    "            - 40x - 100x - 200x - 400x\n",
    "- To make things simple, using the exact path of the images, all the images are moved to the common folder called Cancer.\n",
    "- Images are renamed with their class and patient_id.\n"
   ]
  },
  {
   "cell_type": "code",
   "execution_count": null,
   "metadata": {},
   "outputs": [],
   "source": [
    "# Creating new directory\n",
    "os.makedirs(\"../Cancer/\")"
   ]
  },
  {
   "cell_type": "code",
   "execution_count": 23,
   "metadata": {},
   "outputs": [],
   "source": [
    "# Moving all the images to one folder\n",
    "for p in fold_df['path']:\n",
    "    src = \"../\" + p\n",
    "    dest = \"../Cancer/\"\n",
    "    #saving the files with its corresponding class and patient_id\n",
    "    dest = os.path.join(dest, src.split(\"/\")[7] +  \"_\" + src.split(\"/\")[-1])\n",
    "    shutil.copyfile(src, dest) "
   ]
  },
  {
   "cell_type": "markdown",
   "metadata": {},
   "source": [
    "total must be 7909"
   ]
  },
  {
   "cell_type": "code",
   "execution_count": 12,
   "metadata": {},
   "outputs": [
    {
     "data": {
      "text/plain": [
       "7909"
      ]
     },
     "execution_count": 12,
     "metadata": {},
     "output_type": "execute_result"
    }
   ],
   "source": [
    "# Checking the len\n",
    "len(os.listdir(\"../Cancer/\"))"
   ]
  },
  {
   "cell_type": "code",
   "execution_count": 13,
   "metadata": {},
   "outputs": [],
   "source": [
    "# Creating a new data frame with labels and file names stored in single folder\n",
    "fold_df['file_loc'] = fold_df['label'] + \"_\" + fold_df['filename']\n",
    "# Encoding the class to integer\n",
    "fold_df['class'] = fold_df['label'].apply(lambda x: 0 if x =='benign' else 1)"
   ]
  },
  {
   "cell_type": "code",
   "execution_count": 15,
   "metadata": {},
   "outputs": [
    {
     "data": {
      "text/html": [
       "<div>\n",
       "<style scoped>\n",
       "    .dataframe tbody tr th:only-of-type {\n",
       "        vertical-align: middle;\n",
       "    }\n",
       "\n",
       "    .dataframe tbody tr th {\n",
       "        vertical-align: top;\n",
       "    }\n",
       "\n",
       "    .dataframe thead th {\n",
       "        text-align: right;\n",
       "    }\n",
       "</style>\n",
       "<table border=\"1\" class=\"dataframe\">\n",
       "  <thead>\n",
       "    <tr style=\"text-align: right;\">\n",
       "      <th></th>\n",
       "      <th>fold</th>\n",
       "      <th>mag</th>\n",
       "      <th>grp</th>\n",
       "      <th>path</th>\n",
       "      <th>filename</th>\n",
       "      <th>label</th>\n",
       "      <th>file_loc</th>\n",
       "      <th>class</th>\n",
       "    </tr>\n",
       "  </thead>\n",
       "  <tbody>\n",
       "    <tr>\n",
       "      <th>0</th>\n",
       "      <td>1</td>\n",
       "      <td>100</td>\n",
       "      <td>train</td>\n",
       "      <td>BreaKHis_v1/histology_slides/breast/benign/SOB...</td>\n",
       "      <td>SOB_B_A-14-22549AB-100-001.png</td>\n",
       "      <td>benign</td>\n",
       "      <td>benign_SOB_B_A-14-22549AB-100-001.png</td>\n",
       "      <td>0</td>\n",
       "    </tr>\n",
       "    <tr>\n",
       "      <th>1</th>\n",
       "      <td>1</td>\n",
       "      <td>100</td>\n",
       "      <td>train</td>\n",
       "      <td>BreaKHis_v1/histology_slides/breast/benign/SOB...</td>\n",
       "      <td>SOB_B_A-14-22549AB-100-002.png</td>\n",
       "      <td>benign</td>\n",
       "      <td>benign_SOB_B_A-14-22549AB-100-002.png</td>\n",
       "      <td>0</td>\n",
       "    </tr>\n",
       "    <tr>\n",
       "      <th>2</th>\n",
       "      <td>1</td>\n",
       "      <td>100</td>\n",
       "      <td>train</td>\n",
       "      <td>BreaKHis_v1/histology_slides/breast/benign/SOB...</td>\n",
       "      <td>SOB_B_A-14-22549AB-100-003.png</td>\n",
       "      <td>benign</td>\n",
       "      <td>benign_SOB_B_A-14-22549AB-100-003.png</td>\n",
       "      <td>0</td>\n",
       "    </tr>\n",
       "  </tbody>\n",
       "</table>\n",
       "</div>"
      ],
      "text/plain": [
       "   fold  mag    grp                                               path  \\\n",
       "0     1  100  train  BreaKHis_v1/histology_slides/breast/benign/SOB...   \n",
       "1     1  100  train  BreaKHis_v1/histology_slides/breast/benign/SOB...   \n",
       "2     1  100  train  BreaKHis_v1/histology_slides/breast/benign/SOB...   \n",
       "\n",
       "                         filename   label  \\\n",
       "0  SOB_B_A-14-22549AB-100-001.png  benign   \n",
       "1  SOB_B_A-14-22549AB-100-002.png  benign   \n",
       "2  SOB_B_A-14-22549AB-100-003.png  benign   \n",
       "\n",
       "                                file_loc  class  \n",
       "0  benign_SOB_B_A-14-22549AB-100-001.png      0  \n",
       "1  benign_SOB_B_A-14-22549AB-100-002.png      0  \n",
       "2  benign_SOB_B_A-14-22549AB-100-003.png      0  "
      ]
     },
     "execution_count": 15,
     "metadata": {},
     "output_type": "execute_result"
    }
   ],
   "source": [
    "# Printing the head to display the changed made\n",
    "fold_df.head(3)"
   ]
  },
  {
   "cell_type": "code",
   "execution_count": 16,
   "metadata": {},
   "outputs": [
    {
     "data": {
      "text/html": [
       "<div>\n",
       "<style scoped>\n",
       "    .dataframe tbody tr th:only-of-type {\n",
       "        vertical-align: middle;\n",
       "    }\n",
       "\n",
       "    .dataframe tbody tr th {\n",
       "        vertical-align: top;\n",
       "    }\n",
       "\n",
       "    .dataframe thead th {\n",
       "        text-align: right;\n",
       "    }\n",
       "</style>\n",
       "<table border=\"1\" class=\"dataframe\">\n",
       "  <thead>\n",
       "    <tr style=\"text-align: right;\">\n",
       "      <th></th>\n",
       "      <th>fold</th>\n",
       "      <th>mag</th>\n",
       "      <th>grp</th>\n",
       "      <th>path</th>\n",
       "      <th>filename</th>\n",
       "      <th>label</th>\n",
       "      <th>file_loc</th>\n",
       "      <th>class</th>\n",
       "    </tr>\n",
       "  </thead>\n",
       "  <tbody>\n",
       "    <tr>\n",
       "      <th>39542</th>\n",
       "      <td>5</td>\n",
       "      <td>400</td>\n",
       "      <td>test</td>\n",
       "      <td>BreaKHis_v1/histology_slides/breast/malignant/...</td>\n",
       "      <td>SOB_M_PC-15-190EF-400-013.png</td>\n",
       "      <td>malignant</td>\n",
       "      <td>malignant_SOB_M_PC-15-190EF-400-013.png</td>\n",
       "      <td>1</td>\n",
       "    </tr>\n",
       "    <tr>\n",
       "      <th>39543</th>\n",
       "      <td>5</td>\n",
       "      <td>400</td>\n",
       "      <td>test</td>\n",
       "      <td>BreaKHis_v1/histology_slides/breast/malignant/...</td>\n",
       "      <td>SOB_M_PC-15-190EF-400-014.png</td>\n",
       "      <td>malignant</td>\n",
       "      <td>malignant_SOB_M_PC-15-190EF-400-014.png</td>\n",
       "      <td>1</td>\n",
       "    </tr>\n",
       "    <tr>\n",
       "      <th>39544</th>\n",
       "      <td>5</td>\n",
       "      <td>400</td>\n",
       "      <td>test</td>\n",
       "      <td>BreaKHis_v1/histology_slides/breast/malignant/...</td>\n",
       "      <td>SOB_M_PC-15-190EF-400-015.png</td>\n",
       "      <td>malignant</td>\n",
       "      <td>malignant_SOB_M_PC-15-190EF-400-015.png</td>\n",
       "      <td>1</td>\n",
       "    </tr>\n",
       "  </tbody>\n",
       "</table>\n",
       "</div>"
      ],
      "text/plain": [
       "       fold  mag   grp                                               path  \\\n",
       "39542     5  400  test  BreaKHis_v1/histology_slides/breast/malignant/...   \n",
       "39543     5  400  test  BreaKHis_v1/histology_slides/breast/malignant/...   \n",
       "39544     5  400  test  BreaKHis_v1/histology_slides/breast/malignant/...   \n",
       "\n",
       "                            filename      label  \\\n",
       "39542  SOB_M_PC-15-190EF-400-013.png  malignant   \n",
       "39543  SOB_M_PC-15-190EF-400-014.png  malignant   \n",
       "39544  SOB_M_PC-15-190EF-400-015.png  malignant   \n",
       "\n",
       "                                      file_loc  class  \n",
       "39542  malignant_SOB_M_PC-15-190EF-400-013.png      1  \n",
       "39543  malignant_SOB_M_PC-15-190EF-400-014.png      1  \n",
       "39544  malignant_SOB_M_PC-15-190EF-400-015.png      1  "
      ]
     },
     "execution_count": 16,
     "metadata": {},
     "output_type": "execute_result"
    }
   ],
   "source": [
    "fold_df.tail(3)"
   ]
  },
  {
   "cell_type": "code",
   "execution_count": 17,
   "metadata": {},
   "outputs": [
    {
     "name": "stdout",
     "output_type": "stream",
     "text": [
      "(39545, 8)\n"
     ]
    }
   ],
   "source": [
    "print(fold_df.shape)"
   ]
  },
  {
   "cell_type": "code",
   "execution_count": 19,
   "metadata": {},
   "outputs": [
    {
     "name": "stdout",
     "output_type": "stream",
     "text": [
      "sum_benign    :  2480\n",
      "sum_malignant :  5429\n"
     ]
    },
    {
     "data": {
      "image/png": "[encoded data removed]",
      "text/plain": [
       "<Figure size 640x480 with 1 Axes>"
      ]
     },
     "metadata": {},
     "output_type": "display_data"
    }
   ],
   "source": [
    "fig = plt.figure()\n",
    "ax = fig.add_axes([0,0,1,1])\n",
    "label_data = ['benign', 'malignant']\n",
    "sum_benign = fold_df[(fold_df[\"class\"] == 0) & (fold_df[\"fold\"] == 1)].shape[0]\n",
    "sum_malignant = fold_df[(fold_df[\"class\"] == 1) & (fold_df[\"fold\"] == 1)].shape[0]\n",
    "print(\"sum_benign    : \", sum_benign)\n",
    "print(\"sum_malignant : \", sum_malignant)\n",
    "y_bar = [sum_benign, sum_malignant]\n",
    "ax.bar(label_data, y_bar)\n",
    "plt.show()"
   ]
  },
  {
   "cell_type": "markdown",
   "metadata": {},
   "source": [
    "- Data is Highly Imabalanced as this is the case with the real world.\n",
    "- Medical datas are usually imbalanced because of their nature."
   ]
  },
  {
   "cell_type": "code",
   "execution_count": 20,
   "metadata": {},
   "outputs": [],
   "source": [
    "# Filtering the data frame to benign and malignant for visualization\n",
    "benign_df = fold_df[fold_df['label'] == 'benign']\n",
    "malignant_df = fold_df[fold_df['label'] == 'malignant']"
   ]
  },
  {
   "cell_type": "code",
   "execution_count": 32,
   "metadata": {},
   "outputs": [],
   "source": [
    "# Creating a new data frame with the file loc as its index, label and class of the patients as its columns.\n",
    "df = pd.DataFrame(os.listdir(\"../Cancer/\"))\n",
    "df = df.rename(columns = {0:'file_loc'})\n",
    "df['label'] = df['file_loc'].apply(lambda x:x.split(\"_\")[0])\n",
    "df['class'] = df['label'].apply(lambda x: 0 if x =='benign' else 1)\n",
    "df.set_index(\"file_loc\",inplace=True)"
   ]
  },
  {
   "cell_type": "code",
   "execution_count": 33,
   "metadata": {},
   "outputs": [
    {
     "data": {
      "text/html": [
       "<div>\n",
       "<style scoped>\n",
       "    .dataframe tbody tr th:only-of-type {\n",
       "        vertical-align: middle;\n",
       "    }\n",
       "\n",
       "    .dataframe tbody tr th {\n",
       "        vertical-align: top;\n",
       "    }\n",
       "\n",
       "    .dataframe thead th {\n",
       "        text-align: right;\n",
       "    }\n",
       "</style>\n",
       "<table border=\"1\" class=\"dataframe\">\n",
       "  <thead>\n",
       "    <tr style=\"text-align: right;\">\n",
       "      <th></th>\n",
       "      <th>label</th>\n",
       "      <th>class</th>\n",
       "    </tr>\n",
       "    <tr>\n",
       "      <th>file_loc</th>\n",
       "      <th></th>\n",
       "      <th></th>\n",
       "    </tr>\n",
       "  </thead>\n",
       "  <tbody>\n",
       "    <tr>\n",
       "      <th>SOB_B_A_14-22549AB_SOB_B_A-14-22549AB-100-001.png</th>\n",
       "      <td>SOB</td>\n",
       "      <td>1</td>\n",
       "    </tr>\n",
       "    <tr>\n",
       "      <th>SOB_B_A_14-22549AB_SOB_B_A-14-22549AB-100-002.png</th>\n",
       "      <td>SOB</td>\n",
       "      <td>1</td>\n",
       "    </tr>\n",
       "  </tbody>\n",
       "</table>\n",
       "</div>"
      ],
      "text/plain": [
       "                                                  label  class\n",
       "file_loc                                                      \n",
       "SOB_B_A_14-22549AB_SOB_B_A-14-22549AB-100-001.png   SOB      1\n",
       "SOB_B_A_14-22549AB_SOB_B_A-14-22549AB-100-002.png   SOB      1"
      ]
     },
     "execution_count": 33,
     "metadata": {},
     "output_type": "execute_result"
    }
   ],
   "source": [
    "#Checking the data frame\n",
    "df.head(2)"
   ]
  },
  {
   "cell_type": "code",
   "execution_count": 31,
   "metadata": {},
   "outputs": [
    {
     "data": {
      "text/html": [
       "<div>\n",
       "<style scoped>\n",
       "    .dataframe tbody tr th:only-of-type {\n",
       "        vertical-align: middle;\n",
       "    }\n",
       "\n",
       "    .dataframe tbody tr th {\n",
       "        vertical-align: top;\n",
       "    }\n",
       "\n",
       "    .dataframe thead th {\n",
       "        text-align: right;\n",
       "    }\n",
       "</style>\n",
       "<table border=\"1\" class=\"dataframe\">\n",
       "  <thead>\n",
       "    <tr style=\"text-align: right;\">\n",
       "      <th></th>\n",
       "      <th>label</th>\n",
       "      <th>class</th>\n",
       "    </tr>\n",
       "    <tr>\n",
       "      <th>file_loc</th>\n",
       "      <th></th>\n",
       "      <th></th>\n",
       "    </tr>\n",
       "  </thead>\n",
       "  <tbody>\n",
       "    <tr>\n",
       "      <th>SOB_M_PC_15-190EF_SOB_M_PC-15-190EF-400-014.png</th>\n",
       "      <td>SOB</td>\n",
       "      <td>1</td>\n",
       "    </tr>\n",
       "    <tr>\n",
       "      <th>SOB_M_PC_15-190EF_SOB_M_PC-15-190EF-400-015.png</th>\n",
       "      <td>SOB</td>\n",
       "      <td>1</td>\n",
       "    </tr>\n",
       "  </tbody>\n",
       "</table>\n",
       "</div>"
      ],
      "text/plain": [
       "                                                label  class\n",
       "file_loc                                                    \n",
       "SOB_M_PC_15-190EF_SOB_M_PC-15-190EF-400-014.png   SOB      1\n",
       "SOB_M_PC_15-190EF_SOB_M_PC-15-190EF-400-015.png   SOB      1"
      ]
     },
     "execution_count": 31,
     "metadata": {},
     "output_type": "execute_result"
    }
   ],
   "source": [
    "df.tail(2)"
   ]
  },
  {
   "cell_type": "markdown",
   "metadata": {},
   "source": [
    "Using the data frame, the splitting for train, test and validation is done.\n",
    "according to the research proposal plan, the distribution of the proportion of data is \n",
    "- 80%, 15%, 5% of training, test, and validation data"
   ]
  },
  {
   "cell_type": "code",
   "execution_count": 24,
   "metadata": {},
   "outputs": [],
   "source": [
    "data_train_and_val, data_test = train_test_split(df, test_size = 0.15, random_state = 47)\n",
    "#Traing and val\n",
    "data_train, data_val = train_test_split(data_train_and_val, test_size = 0.05, random_state = 47)"
   ]
  },
  {
   "cell_type": "code",
   "execution_count": 25,
   "metadata": {},
   "outputs": [
    {
     "name": "stdout",
     "output_type": "stream",
     "text": [
      "Training size : (6385, 2)\n",
      "Validation size : (337, 2)\n",
      "Testing size : (1187, 2)\n"
     ]
    }
   ],
   "source": [
    "print(\"Training size :\", data_train.shape)\n",
    "print(\"Validation size :\", data_val.shape)\n",
    "print(\"Testing size :\", data_test.shape)"
   ]
  },
  {
   "cell_type": "code",
   "execution_count": 30,
   "metadata": {},
   "outputs": [
    {
     "data": {
      "text/plain": [
       "<function matplotlib.pyplot.show(close=None, block=None)>"
      ]
     },
     "execution_count": 30,
     "metadata": {},
     "output_type": "execute_result"
    },
    {
     "data": {
      "image/png": "[encoded data removed]",
      "text/plain": [
       "<Figure size 2000x600 with 3 Axes>"
      ]
     },
     "metadata": {},
     "output_type": "display_data"
    }
   ],
   "source": [
    "#Plotting\n",
    "sns.set_style(\"darkgrid\")\n",
    "plt.figure(figsize = (20,6))\n",
    "plt.subplot(1,3,1)\n",
    "sns.countplot( x=data_train[\"class\"])\n",
    "plt.title(\"Training set\")\n",
    "plt.subplot(1,3,2)\n",
    "sns.countplot(data_val['class'])\n",
    "plt.title(\"Validation set\")\n",
    "plt.subplot(1,3,3)\n",
    "sns.countplot(data_test['class']);\n",
    "plt.title(\"Test set\");\n",
    "plt.show"
   ]
  },
  {
   "cell_type": "code",
   "execution_count": null,
   "metadata": {},
   "outputs": [],
   "source": []
  }
 ],
 "metadata": {
  "kernelspec": {
   "display_name": "Python 3.10.6 64-bit",
   "language": "python",
   "name": "python3"
  },
  "language_info": {
   "codemirror_mode": {
    "name": "ipython",
    "version": 3
   },
   "file_extension": ".py",
   "mimetype": "text/x-python",
   "name": "python",
   "nbconvert_exporter": "python",
   "pygments_lexer": "ipython3",
   "version": "3.10.6"
  },
  "orig_nbformat": 4,
  "vscode": {
   "interpreter": {
    "hash": "c27f99e149f39fc2698301b252ecdbf2df6001c346d183b880337b0c4a23ac95"
   }
  }
 },
 "nbformat": 4,
 "nbformat_minor": 2
}
